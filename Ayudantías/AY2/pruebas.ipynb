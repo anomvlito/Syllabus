{
 "cells": [
  {
   "cell_type": "code",
   "execution_count": 319,
   "metadata": {},
   "outputs": [
    {
     "name": "stdout",
     "output_type": "stream",
     "text": [
      "40\n",
      "ejito\n",
      "1\n"
     ]
    }
   ],
   "source": [
    "from abc import ABC, abstractmethod\n",
    "import random\n",
    "\n",
    "class prueba(ABC):\n",
    "\n",
    "    def __init__(self,valor):\n",
    "        self.valor = valor\n",
    "\n",
    "    @abstractmethod\n",
    "    def test(self, value):\n",
    "        resultado = 0\n",
    "        if random.random() > 0.5:\n",
    "            resultado += 1\n",
    "        print(value)\n",
    "        return(resultado)\n",
    "\n",
    "\n",
    "class pruebita(prueba):\n",
    "    def __init__(self, *args, **kwargs):\n",
    "        super().__init__(*args, **kwargs)\n",
    "\n",
    "\n",
    "    def test2(self, valor):\n",
    "        print(valor)\n",
    "\n",
    "    def test(self, value):\n",
    "        r = super().test(value)\n",
    "        \n",
    "        print(\"ejito\")\n",
    "        self.test2(r)\n",
    "\n",
    "\n",
    "\n",
    "\n",
    "\n",
    "a = pruebita(10)\n",
    "\n",
    "a.test(40)"
   ]
  },
  {
   "cell_type": "code",
   "execution_count": 324,
   "metadata": {},
   "outputs": [],
   "source": [
    "bq = 8\n",
    "\n",
    "if 5 <= bq <= 7:\n",
    "    print(\"QUE WEA\")"
   ]
  },
  {
   "cell_type": "code",
   "execution_count": 51,
   "metadata": {},
   "outputs": [
    {
     "name": "stdout",
     "output_type": "stream",
     "text": [
      "0.5358132810474304\n"
     ]
    }
   ],
   "source": [
    "print(random.random())"
   ]
  },
  {
   "cell_type": "code",
   "execution_count": 22,
   "metadata": {},
   "outputs": [
    {
     "name": "stdout",
     "output_type": "stream",
     "text": [
      "se retorno 10\n"
     ]
    },
    {
     "data": {
      "text/plain": [
       "3"
      ]
     },
     "execution_count": 22,
     "metadata": {},
     "output_type": "execute_result"
    }
   ],
   "source": [
    "from abc import ABC, abstractmethod\n",
    "\n",
    "l1 = ['cantidad_vida', 'nombre', 'apellido', 'edad']\n",
    "l2 = ['10','fabian', 'ortega', '27']\n",
    "\n",
    "a = dict(zip(l1,l2))\n",
    "\n",
    "\n",
    "class Alumno(ABC):\n",
    "\n",
    "    def __init__(self, nombre, apellido, edad):\n",
    "        self._vida = 4\n",
    "        self.nombre = nombre\n",
    "        self.apellido = apellido\n",
    "        self.edad = edad \n",
    "        \n",
    "    @property\n",
    "    def vida(self):\n",
    "        return self._vida\n",
    "\n",
    "    @vida.setter\n",
    "    def vida(self,valor):\n",
    "        \n",
    "        if valor < 0 :\n",
    "            print(\"que pasa\")\n",
    "            self._vida = 0\n",
    "        else:\n",
    "            self._vida = valor\n",
    "\n",
    "    def rest_vida(self, anos, object):\n",
    "        self.vida -= anos\n",
    "        print(f\"la vida quedo {self.vida}\")\n",
    "\n",
    "\n",
    "\n",
    "class estuche_alumno(Alumno):\n",
    "    def __init__(self, *args, **kwargs):\n",
    "        super().__init__( *args, **kwargs)\n",
    "        \n",
    "class bebida(ABC):\n",
    "\n",
    "    def __init__(self, nombre, tipo, bonificador):\n",
    "        self.nombre = nombre \n",
    "        self.tipo = tipo\n",
    "        self.bonificador = bonificador\n",
    "\n",
    "    @abstractmethod\n",
    "    def subir(self, objeto1, objeto2):\n",
    "        print(objeto1.vida, \"esta es la vida \")\n",
    "\n",
    "        \n",
    "\n",
    "class cocacola(bebida):\n",
    "    def __init__(self, *args, **kwargs):\n",
    "        super().__init__(*args, **kwargs)\n",
    "\n",
    "    def subir(self, objeto1, objeto2):\n",
    "        if len(self.nombre) > 4:\n",
    "            print(f\"se retorno {self.bonificador}\")\n",
    "            objeto1.vida += self.bonificador\n",
    "            return(3)\n",
    "        \n",
    "\n",
    "alumno_1 = estuche_alumno(a['nombre'], a['apellido'], a['edad'])\n",
    "\n",
    "alumno_2 = estuche_alumno('Jorge', 'Venabente', a['edad'])\n",
    "\n",
    "\n",
    "coca = cocacola(\"istica\",\"bebida\",10)\n",
    "\n",
    "coca.subir(alumno_1, alumno_2)"
   ]
  },
  {
   "cell_type": "code",
   "execution_count": 4,
   "metadata": {},
   "outputs": [
    {
     "ename": "TypeError",
     "evalue": "cocacola.subir() missing 1 required positional argument: 'objeto2'",
     "output_type": "error",
     "traceback": [
      "\u001b[1;31m---------------------------------------------------------------------------\u001b[0m",
      "\u001b[1;31mTypeError\u001b[0m                                 Traceback (most recent call last)",
      "\u001b[1;32mc:\\Users\\Fabian Ortega\\Desktop\\IIC2233\\Syllabus\\Ayudantías\\AY2\\pruebas.ipynb Cell 5'\u001b[0m in \u001b[0;36m<cell line: 1>\u001b[1;34m()\u001b[0m\n\u001b[1;32m----> <a href='vscode-notebook-cell:/c%3A/Users/Fabian%20Ortega/Desktop/IIC2233/Syllabus/Ayudant%C3%ADas/AY2/pruebas.ipynb#ch0000004?line=0'>1</a>\u001b[0m coca\u001b[39m.\u001b[39;49msubir(alumno_1)\n\u001b[0;32m      <a href='vscode-notebook-cell:/c%3A/Users/Fabian%20Ortega/Desktop/IIC2233/Syllabus/Ayudant%C3%ADas/AY2/pruebas.ipynb#ch0000004?line=1'>2</a>\u001b[0m alumno_1\u001b[39m.\u001b[39mvida\n",
      "\u001b[1;31mTypeError\u001b[0m: cocacola.subir() missing 1 required positional argument: 'objeto2'"
     ]
    }
   ],
   "source": [
    "\n",
    "coca.subir(alumno_1)\n",
    "alumno_1.vida\n",
    "\n"
   ]
  },
  {
   "cell_type": "code",
   "execution_count": 39,
   "metadata": {},
   "outputs": [
    {
     "name": "stdout",
     "output_type": "stream",
     "text": [
      "que pasa\n",
      "la vida quedo 0\n"
     ]
    },
    {
     "data": {
      "text/plain": [
       "0"
      ]
     },
     "execution_count": 39,
     "metadata": {},
     "output_type": "execute_result"
    }
   ],
   "source": [
    "alumno_1.rest_vida(2, alumno_1)\n",
    "alumno_1.vida"
   ]
  },
  {
   "cell_type": "code",
   "execution_count": 325,
   "metadata": {},
   "outputs": [
    {
     "name": "stdout",
     "output_type": "stream",
     "text": [
      "waaa\n"
     ]
    }
   ],
   "source": [
    "z = 3 \n",
    "\n",
    "if z >= 1 or z <= 5 :\n",
    "    print(\"waaa\")"
   ]
  }
 ],
 "metadata": {
  "interpreter": {
   "hash": "e719040be91a277274373892374359c8ffbeccea99dbaf208e55a436db28c7c0"
  },
  "kernelspec": {
   "display_name": "Python 3.10.2 64-bit",
   "language": "python",
   "name": "python3"
  },
  "language_info": {
   "codemirror_mode": {
    "name": "ipython",
    "version": 3
   },
   "file_extension": ".py",
   "mimetype": "text/x-python",
   "name": "python",
   "nbconvert_exporter": "python",
   "pygments_lexer": "ipython3",
   "version": "3.10.2"
  },
  "orig_nbformat": 4
 },
 "nbformat": 4,
 "nbformat_minor": 2
}
